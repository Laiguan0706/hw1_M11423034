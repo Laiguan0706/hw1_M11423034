{
 "cells": [
  {
   "cell_type": "code",
   "execution_count": 1,
   "id": "d7f7e83d-e7e6-41b9-bc72-dd67519502f8",
   "metadata": {},
   "outputs": [
    {
     "name": "stderr",
     "output_type": "stream",
     "text": [
      "載入需要的套件：ggplot2\n",
      "\n",
      "載入需要的套件：lattice\n",
      "\n"
     ]
    },
    {
     "name": "stdout",
     "output_type": "stream",
     "text": [
      "C5.0 測試集評估指標:\n",
      "Accuracy : 0.8647 \n",
      "Precision: 0.9 \n",
      "Recall   : 0.9231 \n",
      "F1-score : 0.9114 \n",
      "C5.0 訓練集準確率: 0.8725 \n",
      "[1] \"所有預測結果已保存到 c50_result.csv\"\n",
      "[1] \"評估指標已保存到 c50_metrics.csv\"\n"
     ]
    }
   ],
   "source": [
    "# 載入所需套件\n",
    "library(C50)\n",
    "library(caret)\n",
    "\n",
    "# 讀取資料\n",
    "x_train <- read.csv(\"processed_data/x_train.csv\")\n",
    "x_test <- read.csv(\"processed_data/x_test.csv\")\n",
    "y_train <- read.csv(\"processed_data/y_train.csv\")$income\n",
    "y_test <- read.csv(\"processed_data/y_test.csv\")$income\n",
    "\n",
    "# 建立 C5.0 模型\n",
    "c50_model <- C5.0(x = x_train, y = as.factor(y_train))\n",
    "\n",
    "# 進行預測\n",
    "train_predictions <- predict(c50_model, x_train)  # 訓練集預測\n",
    "test_predictions <- predict(c50_model, x_test)    # 測試集預測\n",
    "\n",
    "# 計算測試集各項指標\n",
    "confusion_matrix <- confusionMatrix(test_predictions, as.factor(y_test))\n",
    "\n",
    "# 提取指標\n",
    "accuracy <- confusion_matrix$overall['Accuracy']\n",
    "precision <- confusion_matrix$byClass['Pos Pred Value']  # Precision\n",
    "recall <- confusion_matrix$byClass['Sensitivity']        # Recall\n",
    "f1_score <- confusion_matrix$byClass['F1']               # F1-score\n",
    "\n",
    "# 顯示所有指標\n",
    "cat(\"C5.0 測試集評估指標:\\n\")\n",
    "cat(\"Accuracy :\", round(accuracy, 4), \"\\n\")\n",
    "cat(\"Precision:\", round(precision, 4), \"\\n\")\n",
    "cat(\"Recall   :\", round(recall, 4), \"\\n\")\n",
    "cat(\"F1-score :\", round(f1_score, 4), \"\\n\")\n",
    "\n",
    "# 計算訓練集準確率\n",
    "train_accuracy <- mean(train_predictions == as.factor(y_train))\n",
    "cat(\"C5.0 訓練集準確率:\", round(train_accuracy, 4), \"\\n\")\n",
    "\n",
    "# 建立包含所有預測結果的資料框\n",
    "results_df <- data.frame(\n",
    "  actual = y_test,\n",
    "  predicted = as.numeric(as.character(test_predictions))\n",
    ")\n",
    "\n",
    "# 儲存所有預測結果到 CSV\n",
    "write.csv(results_df, \"c50_result.csv\", row.names = FALSE)\n",
    "\n",
    "# 儲存所有評估指標\n",
    "metrics_df <- data.frame(\n",
    "  metric = c(\"accuracy\", \"precision\", \"recall\", \"f1_score\", \"train_accuracy\"),\n",
    "  value = c(accuracy, precision, recall, f1_score, train_accuracy)\n",
    ")\n",
    "write.csv(metrics_df, \"c50_metrics.csv\", row.names = FALSE)\n",
    "\n",
    "print(\"所有預測結果已保存到 c50_result.csv\")\n",
    "print(\"評估指標已保存到 c50_metrics.csv\")\n"
   ]
  },
  {
   "cell_type": "code",
   "execution_count": null,
   "id": "7d178639-046e-460e-83de-5187c6fd7ec4",
   "metadata": {},
   "outputs": [],
   "source": []
  }
 ],
 "metadata": {
  "kernelspec": {
   "display_name": "R [conda env:base] *",
   "language": "R",
   "name": "conda-base-r"
  },
  "language_info": {
   "codemirror_mode": "r",
   "file_extension": ".r",
   "mimetype": "text/x-r-source",
   "name": "R",
   "pygments_lexer": "r",
   "version": "4.1.3"
  }
 },
 "nbformat": 4,
 "nbformat_minor": 5
}
